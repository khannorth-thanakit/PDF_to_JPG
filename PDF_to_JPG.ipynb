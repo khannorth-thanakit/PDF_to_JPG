# ติดตั้ง pdf2image และ poppler
!apt-get install poppler-utils
!pip install pdf2image

# นำเข้าไลบรารี
from pdf2image import convert_from_path
from google.colab import files
import os

# อัปโหลดไฟล์ PDF
uploaded = files.upload()

# ดึงชื่อไฟล์ PDF ที่อัปโหลด
pdf_filename = list(uploaded.keys())[0]

# แปลง PDF เป็นรูปภาพ (300 dpi เพื่อความคมชัด)
images = convert_from_path(pdf_filename, dpi=300)

# สร้างโฟลเดอร์สำหรับบันทึกภาพ
output_folder = "pdf_images"
os.makedirs(output_folder, exist_ok=True)

# บันทึกแต่ละหน้าของ PDF เป็นรูปภาพ
image_paths = []
for i, image in enumerate(images):
    img_path = f"{output_folder}/page_{i+1}.jpg"
    image.save(img_path, "JPEG")
    image_paths.append(img_path)

# บีบอัดไฟล์เป็น ZIP เพื่อง่ายต่อการดาวน์โหลด
import shutil
shutil.make_archive("pdf_images", 'zip', output_folder)

# ดาวน์โหลดไฟล์ ZIP
files.download("pdf_images.zip")
